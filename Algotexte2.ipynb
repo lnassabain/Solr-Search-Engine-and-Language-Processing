{
  "nbformat": 4,
  "nbformat_minor": 0,
  "metadata": {
    "colab": {
      "name": "Algotexte2.ipynb",
      "provenance": [],
      "collapsed_sections": [
        "EnX0ayvuQFq2",
        "ucUn6ZTgXKLd"
      ],
      "toc_visible": true
    },
    "kernelspec": {
      "name": "python3",
      "display_name": "Python 3"
    },
    "language_info": {
      "name": "python"
    }
  },
  "cells": [
    {
      "cell_type": "markdown",
      "metadata": {
        "id": "EnX0ayvuQFq2"
      },
      "source": [
        "# Librairies utilisées"
      ]
    },
    {
      "cell_type": "code",
      "metadata": {
        "id": "OmxhVKUyhY-4"
      },
      "source": [
        "import pandas as pd\n",
        "import numpy as np\n",
        "from nltk.corpus import stopwords\n",
        "from sklearn import model_selection\n",
        "from sklearn import metrics\n",
        "from sklearn.model_selection import train_test_split\n",
        "from sklearn.pipeline import Pipeline, FeatureUnion, make_pipeline\n",
        "from sklearn.base import BaseEstimator, TransformerMixin\n",
        "from sklearn.feature_extraction import DictVectorizer\n",
        "from sklearn.feature_extraction.text import CountVectorizer,TfidfVectorizer\n",
        "from sklearn.linear_model import LogisticRegression\n",
        "from sklearn.metrics import classification_report, f1_score, accuracy_score, confusion_matrix\n",
        "from sklearn.model_selection import train_test_split\n",
        "from sklearn.naive_bayes import MultinomialNB\n",
        "from sklearn.ensemble import RandomForestClassifier\n",
        "from sklearn.neighbors import KNeighborsClassifier\n",
        "from sklearn.dummy import DummyClassifier\n",
        "from sklearn.tree import DecisionTreeClassifier\n",
        "from nltk.corpus import stopwords, wordnet\n",
        "from nltk.stem import WordNetLemmatizer\n",
        "from nltk.stem import PorterStemmer\n",
        "import spacy\n",
        "import matplotlib.pyplot as plt\n",
        "import numpy as np\n",
        "import pandas as pd\n",
        "import string\n",
        "import re"
      ],
      "execution_count": 33,
      "outputs": []
    },
    {
      "cell_type": "markdown",
      "metadata": {
        "id": "HQQpBmUhnvkv"
      },
      "source": [
        "# Importation du fichier csv"
      ]
    },
    {
      "cell_type": "code",
      "metadata": {
        "colab": {
          "base_uri": "https://localhost:8080/",
          "height": 206
        },
        "id": "HNhAzlenkIQv",
        "outputId": "2906abf6-0cd4-4833-ab7b-4bceb450c92c"
      },
      "source": [
        "debats = pd.read_csv(\"debats.csv\", sep=\",\")\n",
        "debats.head()"
      ],
      "execution_count": 35,
      "outputs": [
        {
          "output_type": "execute_result",
          "data": {
            "text/html": [
              "<div>\n",
              "<style scoped>\n",
              "    .dataframe tbody tr th:only-of-type {\n",
              "        vertical-align: middle;\n",
              "    }\n",
              "\n",
              "    .dataframe tbody tr th {\n",
              "        vertical-align: top;\n",
              "    }\n",
              "\n",
              "    .dataframe thead th {\n",
              "        text-align: right;\n",
              "    }\n",
              "</style>\n",
              "<table border=\"1\" class=\"dataframe\">\n",
              "  <thead>\n",
              "    <tr style=\"text-align: right;\">\n",
              "      <th></th>\n",
              "      <th>Unnamed: 0</th>\n",
              "      <th>dateSeance</th>\n",
              "      <th>texte</th>\n",
              "      <th>groupe_politique</th>\n",
              "    </tr>\n",
              "  </thead>\n",
              "  <tbody>\n",
              "    <tr>\n",
              "      <th>0</th>\n",
              "      <td>0</td>\n",
              "      <td>20190115150000000</td>\n",
              "      <td>Prochaine séance, ce soir, à vingt et une heur...</td>\n",
              "      <td>LaREM</td>\n",
              "    </tr>\n",
              "    <tr>\n",
              "      <th>1</th>\n",
              "      <td>1</td>\n",
              "      <td>20190115150000000</td>\n",
              "      <td>\\n            \\nLe Directeur du service du com...</td>\n",
              "      <td>NaN</td>\n",
              "    </tr>\n",
              "    <tr>\n",
              "      <th>2</th>\n",
              "      <td>2</td>\n",
              "      <td>20190115150000000</td>\n",
              "      <td>Monsieur le Premier ministre, comme vous le sa...</td>\n",
              "      <td>NaN</td>\n",
              "    </tr>\n",
              "    <tr>\n",
              "      <th>3</th>\n",
              "      <td>3</td>\n",
              "      <td>20190115150000000</td>\n",
              "      <td>Il appartiendra donc aux parlementaires ou, pl...</td>\n",
              "      <td>NaN</td>\n",
              "    </tr>\n",
              "    <tr>\n",
              "      <th>4</th>\n",
              "      <td>4</td>\n",
              "      <td>20190115150000000</td>\n",
              "      <td>Dans cet esprit, pourquoi avoir refusé un chan...</td>\n",
              "      <td>SOC</td>\n",
              "    </tr>\n",
              "  </tbody>\n",
              "</table>\n",
              "</div>"
            ],
            "text/plain": [
              "   Unnamed: 0  ...  groupe_politique\n",
              "0           0  ...             LaREM\n",
              "1           1  ...               NaN\n",
              "2           2  ...               NaN\n",
              "3           3  ...               NaN\n",
              "4           4  ...               SOC\n",
              "\n",
              "[5 rows x 4 columns]"
            ]
          },
          "metadata": {
            "tags": []
          },
          "execution_count": 35
        }
      ]
    },
    {
      "cell_type": "markdown",
      "metadata": {
        "id": "yWyd96SkoAZz"
      },
      "source": [
        "# Pré-traitement des données"
      ]
    },
    {
      "cell_type": "markdown",
      "metadata": {
        "id": "x2qKeHR2n0Yz"
      },
      "source": [
        "## Suppression colonne Unnamed, et des NaN dans groupe_politique"
      ]
    },
    {
      "cell_type": "code",
      "metadata": {
        "colab": {
          "base_uri": "https://localhost:8080/"
        },
        "id": "PXotTSQjkVN9",
        "outputId": "962ffecc-d46a-4d3a-df02-6222da231f50"
      },
      "source": [
        "debats.drop\n",
        "debats.dropna(axis=0, how='any', inplace=True)  \n",
        "debats.reset_index(drop=True, inplace=True)\n",
        "debats.drop('Unnamed: 0', inplace=True, axis=1)\n",
        "print(debats.iloc[:5,])\n",
        "print(len(debats))"
      ],
      "execution_count": 36,
      "outputs": [
        {
          "output_type": "stream",
          "text": [
            "          dateSeance  ... groupe_politique\n",
            "0  20190115150000000  ...            LaREM\n",
            "1  20190115150000000  ...              SOC\n",
            "2  20190115150000000  ...               NI\n",
            "3  20190115150000000  ...               FI\n",
            "4  20190115150000000  ...              SOC\n",
            "\n",
            "[5 rows x 3 columns]\n",
            "53564\n"
          ],
          "name": "stdout"
        }
      ]
    },
    {
      "cell_type": "code",
      "metadata": {
        "id": "0uxl4XrqxFpa"
      },
      "source": [
        "#On cree une nouvelle colonne 'etiquette' qui a les memes valeurs que 'groupe politique'\n",
        "debats['orientation'] = debats['groupe_politique']\n",
        "#On remplace dans la colonne 'etiquette' les valeurs 'LR' par 'droite' et les valeurs\n",
        "#'SOC', 'GDR', et 'FI' par 'gauche\n",
        "debats['orientation'] = debats['orientation'].replace(['LR', 'SOC', 'GDR', 'FI'], ['droite', 'gauche', 'gauche', 'gauche'])\n",
        "\n",
        "\n",
        "#Pour notre dataframe, nous choisissons uniquement les lignes qui ont comme etiquette\n",
        "#'gauche' ou 'droite' et on reindexe à la fin de la selection\n",
        "debats = debats[debats['orientation'].isin(['gauche', 'droite'])]\n",
        "debats.reset_index(drop=True, inplace=True)"
      ],
      "execution_count": 37,
      "outputs": []
    },
    {
      "cell_type": "code",
      "metadata": {
        "colab": {
          "base_uri": "https://localhost:8080/",
          "height": 206
        },
        "id": "Z2FCfb4J01zC",
        "outputId": "7f91a84e-ac00-41b6-8e19-2d5df21f47fc"
      },
      "source": [
        "#On enleve la colonne groupe_politique\n",
        "debats.drop('groupe_politique', inplace=True, axis=1)\n",
        "debats.head()"
      ],
      "execution_count": 38,
      "outputs": [
        {
          "output_type": "execute_result",
          "data": {
            "text/html": [
              "<div>\n",
              "<style scoped>\n",
              "    .dataframe tbody tr th:only-of-type {\n",
              "        vertical-align: middle;\n",
              "    }\n",
              "\n",
              "    .dataframe tbody tr th {\n",
              "        vertical-align: top;\n",
              "    }\n",
              "\n",
              "    .dataframe thead th {\n",
              "        text-align: right;\n",
              "    }\n",
              "</style>\n",
              "<table border=\"1\" class=\"dataframe\">\n",
              "  <thead>\n",
              "    <tr style=\"text-align: right;\">\n",
              "      <th></th>\n",
              "      <th>dateSeance</th>\n",
              "      <th>texte</th>\n",
              "      <th>orientation</th>\n",
              "    </tr>\n",
              "  </thead>\n",
              "  <tbody>\n",
              "    <tr>\n",
              "      <th>0</th>\n",
              "      <td>20190115150000000</td>\n",
              "      <td>Dans cet esprit, pourquoi avoir refusé un chan...</td>\n",
              "      <td>gauche</td>\n",
              "    </tr>\n",
              "    <tr>\n",
              "      <th>1</th>\n",
              "      <td>20190115150000000</td>\n",
              "      <td>Le pompier qui est dans le coma, ce n’est pas ...</td>\n",
              "      <td>gauche</td>\n",
              "    </tr>\n",
              "    <tr>\n",
              "      <th>2</th>\n",
              "      <td>20190115150000000</td>\n",
              "      <td>Vous en savez quelque chose !</td>\n",
              "      <td>gauche</td>\n",
              "    </tr>\n",
              "    <tr>\n",
              "      <th>3</th>\n",
              "      <td>20190115150000000</td>\n",
              "      <td>Le groupe La France insoumise ne désespère pas...</td>\n",
              "      <td>gauche</td>\n",
              "    </tr>\n",
              "    <tr>\n",
              "      <th>4</th>\n",
              "      <td>20190115150000000</td>\n",
              "      <td>Le groupe de la Gauche démocrate et républicai...</td>\n",
              "      <td>gauche</td>\n",
              "    </tr>\n",
              "  </tbody>\n",
              "</table>\n",
              "</div>"
            ],
            "text/plain": [
              "          dateSeance  ... orientation\n",
              "0  20190115150000000  ...      gauche\n",
              "1  20190115150000000  ...      gauche\n",
              "2  20190115150000000  ...      gauche\n",
              "3  20190115150000000  ...      gauche\n",
              "4  20190115150000000  ...      gauche\n",
              "\n",
              "[5 rows x 3 columns]"
            ]
          },
          "metadata": {
            "tags": []
          },
          "execution_count": 38
        }
      ]
    },
    {
      "cell_type": "markdown",
      "metadata": {
        "id": "3O2BYftsUpn4"
      },
      "source": [
        "## Transformation de la colonne dateSeance : on ne gardera que l'année (pour la partie Solr)"
      ]
    },
    {
      "cell_type": "code",
      "metadata": {
        "id": "IAV8EF8v0GYw"
      },
      "source": [
        "from textwrap import wrap\n",
        "# Pour la partie 2 Solr, on a du changé le format de la date, pour ne laisser que l'année\n",
        "res = []\n",
        "\n",
        "for i in debats['dateSeance']:\n",
        "   new = wrap(str(i), 4) # on garde les 4 premiers chiffres qui corespond à l'année\n",
        "   res.append(new[0])\n",
        "\n",
        "res = list(map(int, res))\n",
        "debats['dateSeance'] = res"
      ],
      "execution_count": 39,
      "outputs": []
    },
    {
      "cell_type": "code",
      "metadata": {
        "colab": {
          "base_uri": "https://localhost:8080/",
          "height": 206
        },
        "id": "IW83Cxxr1uZe",
        "outputId": "3126c146-366d-4001-e4dc-8905069b7a9a"
      },
      "source": [
        "debats.head()"
      ],
      "execution_count": 40,
      "outputs": [
        {
          "output_type": "execute_result",
          "data": {
            "text/html": [
              "<div>\n",
              "<style scoped>\n",
              "    .dataframe tbody tr th:only-of-type {\n",
              "        vertical-align: middle;\n",
              "    }\n",
              "\n",
              "    .dataframe tbody tr th {\n",
              "        vertical-align: top;\n",
              "    }\n",
              "\n",
              "    .dataframe thead th {\n",
              "        text-align: right;\n",
              "    }\n",
              "</style>\n",
              "<table border=\"1\" class=\"dataframe\">\n",
              "  <thead>\n",
              "    <tr style=\"text-align: right;\">\n",
              "      <th></th>\n",
              "      <th>dateSeance</th>\n",
              "      <th>texte</th>\n",
              "      <th>orientation</th>\n",
              "    </tr>\n",
              "  </thead>\n",
              "  <tbody>\n",
              "    <tr>\n",
              "      <th>0</th>\n",
              "      <td>2019</td>\n",
              "      <td>Dans cet esprit, pourquoi avoir refusé un chan...</td>\n",
              "      <td>gauche</td>\n",
              "    </tr>\n",
              "    <tr>\n",
              "      <th>1</th>\n",
              "      <td>2019</td>\n",
              "      <td>Le pompier qui est dans le coma, ce n’est pas ...</td>\n",
              "      <td>gauche</td>\n",
              "    </tr>\n",
              "    <tr>\n",
              "      <th>2</th>\n",
              "      <td>2019</td>\n",
              "      <td>Vous en savez quelque chose !</td>\n",
              "      <td>gauche</td>\n",
              "    </tr>\n",
              "    <tr>\n",
              "      <th>3</th>\n",
              "      <td>2019</td>\n",
              "      <td>Le groupe La France insoumise ne désespère pas...</td>\n",
              "      <td>gauche</td>\n",
              "    </tr>\n",
              "    <tr>\n",
              "      <th>4</th>\n",
              "      <td>2019</td>\n",
              "      <td>Le groupe de la Gauche démocrate et républicai...</td>\n",
              "      <td>gauche</td>\n",
              "    </tr>\n",
              "  </tbody>\n",
              "</table>\n",
              "</div>"
            ],
            "text/plain": [
              "   dateSeance                                              texte orientation\n",
              "0        2019  Dans cet esprit, pourquoi avoir refusé un chan...      gauche\n",
              "1        2019  Le pompier qui est dans le coma, ce n’est pas ...      gauche\n",
              "2        2019                      Vous en savez quelque chose !      gauche\n",
              "3        2019  Le groupe La France insoumise ne désespère pas...      gauche\n",
              "4        2019  Le groupe de la Gauche démocrate et républicai...      gauche"
            ]
          },
          "metadata": {
            "tags": []
          },
          "execution_count": 40
        }
      ]
    },
    {
      "cell_type": "code",
      "metadata": {
        "id": "xcxw0CKZlFra"
      },
      "source": [
        "debats.to_csv('debats_transfo.csv', sep = ',', index=False)"
      ],
      "execution_count": 41,
      "outputs": []
    },
    {
      "cell_type": "code",
      "metadata": {
        "id": "9RWxiyVv3ir2"
      },
      "source": [
        "#On separe les données en attributs et cibles\n",
        "X = debats[['dateSeance', 'texte']]\n",
        "y = debats.orientation"
      ],
      "execution_count": 42,
      "outputs": []
    },
    {
      "cell_type": "code",
      "metadata": {
        "id": "DLHhYq2d_nwa"
      },
      "source": [
        "#On separe les données en données de train et données de test\n",
        "X_train, X_test, y_train, y_test = train_test_split(X, y, test_size=0.2, \n",
        "                                                    shuffle=True)"
      ],
      "execution_count": 43,
      "outputs": []
    },
    {
      "cell_type": "code",
      "metadata": {
        "colab": {
          "base_uri": "https://localhost:8080/",
          "height": 206
        },
        "id": "4WjbSnuYAb74",
        "outputId": "31fee346-2c4a-43ab-f27a-3c94bf60b083"
      },
      "source": [
        "X_train.head()"
      ],
      "execution_count": 44,
      "outputs": [
        {
          "output_type": "execute_result",
          "data": {
            "text/html": [
              "<div>\n",
              "<style scoped>\n",
              "    .dataframe tbody tr th:only-of-type {\n",
              "        vertical-align: middle;\n",
              "    }\n",
              "\n",
              "    .dataframe tbody tr th {\n",
              "        vertical-align: top;\n",
              "    }\n",
              "\n",
              "    .dataframe thead th {\n",
              "        text-align: right;\n",
              "    }\n",
              "</style>\n",
              "<table border=\"1\" class=\"dataframe\">\n",
              "  <thead>\n",
              "    <tr style=\"text-align: right;\">\n",
              "      <th></th>\n",
              "      <th>dateSeance</th>\n",
              "      <th>texte</th>\n",
              "    </tr>\n",
              "  </thead>\n",
              "  <tbody>\n",
              "    <tr>\n",
              "      <th>796</th>\n",
              "      <td>2018</td>\n",
              "      <td>Voulons-nous à tout prix être livrés en vingt-...</td>\n",
              "    </tr>\n",
              "    <tr>\n",
              "      <th>14395</th>\n",
              "      <td>2020</td>\n",
              "      <td>Prochaine séance, ce soir, à vingt et une heur...</td>\n",
              "    </tr>\n",
              "    <tr>\n",
              "      <th>8993</th>\n",
              "      <td>2018</td>\n",
              "      <td>Nous connaissons tous au moins une histoire tr...</td>\n",
              "    </tr>\n",
              "    <tr>\n",
              "      <th>11463</th>\n",
              "      <td>2020</td>\n",
              "      <td>C’est faux.</td>\n",
              "    </tr>\n",
              "    <tr>\n",
              "      <th>21180</th>\n",
              "      <td>2017</td>\n",
              "      <td>Si !</td>\n",
              "    </tr>\n",
              "  </tbody>\n",
              "</table>\n",
              "</div>"
            ],
            "text/plain": [
              "       dateSeance                                              texte\n",
              "796          2018  Voulons-nous à tout prix être livrés en vingt-...\n",
              "14395        2020  Prochaine séance, ce soir, à vingt et une heur...\n",
              "8993         2018  Nous connaissons tous au moins une histoire tr...\n",
              "11463        2020                                        C’est faux.\n",
              "21180        2017                                               Si !"
            ]
          },
          "metadata": {
            "tags": []
          },
          "execution_count": 44
        }
      ]
    },
    {
      "cell_type": "markdown",
      "metadata": {
        "id": "q_ssNb4MQAws"
      },
      "source": [
        "# Construction du modèle"
      ]
    },
    {
      "cell_type": "markdown",
      "metadata": {
        "id": "9L09NCadbmrJ"
      },
      "source": [
        "## Importation des librairies pour la tokenization et la lemmatisation"
      ]
    },
    {
      "cell_type": "code",
      "metadata": {
        "colab": {
          "base_uri": "https://localhost:8080/"
        },
        "id": "XbE_jo9JpxPb",
        "outputId": "d6046ee5-e330-4808-e7ae-2159a873254c"
      },
      "source": [
        "import nltk\n",
        "from nltk.corpus import wordnet\n",
        "from nltk.tokenize import word_tokenize, WhitespaceTokenizer\n",
        "\n",
        "nltk.download('stopwords')\n",
        "nltk.download('wordnet')\n",
        "nltk.download('punkt')\n",
        "\n",
        "\n",
        "wn = WordNetLemmatizer()\n",
        "w_tokenizer = WhitespaceTokenizer()"
      ],
      "execution_count": 45,
      "outputs": [
        {
          "output_type": "stream",
          "text": [
            "[nltk_data] Downloading package stopwords to /root/nltk_data...\n",
            "[nltk_data]   Package stopwords is already up-to-date!\n",
            "[nltk_data] Downloading package wordnet to /root/nltk_data...\n",
            "[nltk_data]   Package wordnet is already up-to-date!\n",
            "[nltk_data] Downloading package punkt to /root/nltk_data...\n",
            "[nltk_data]   Package punkt is already up-to-date!\n"
          ],
          "name": "stdout"
        }
      ]
    },
    {
      "cell_type": "markdown",
      "metadata": {
        "id": "mybkUGZYT2ez"
      },
      "source": [
        "## Pré-traitement de la colonne texte et création du pipeline"
      ]
    },
    {
      "cell_type": "code",
      "metadata": {
        "id": "AhuEo7zTBTub"
      },
      "source": [
        "# Classe pour sélectionner des colonnes à partir de leur nom\n",
        "class SingleColumnSelector(BaseEstimator, TransformerMixin):\n",
        "    def __init__(self, key):\n",
        "        self.key = key\n",
        "    \n",
        "    def fit(self, X, y=None):\n",
        "        return self\n",
        "    \n",
        "    def transform(self, data_dict):\n",
        "        return data_dict[self.key]"
      ],
      "execution_count": 46,
      "outputs": []
    },
    {
      "cell_type": "code",
      "metadata": {
        "colab": {
          "base_uri": "https://localhost:8080/"
        },
        "id": "y1gAfP-o_q3Y",
        "outputId": "d344faea-8b64-496c-d178-28b37bdd3dda"
      },
      "source": [
        "# Tokenization puis lemmatisation avant le transformation en vecteur\n",
        "\n",
        "def split_into_tokens_lemmatized_nltk(text) :\n",
        "    result = \"\".join([word for word in text if word not in string.punctuation])\n",
        "    tokens = re.split('\\W', result)\n",
        "    tmp = [word for word in tokens if word not in fr_stopwords]\n",
        "    new = [wn.lemmatize(word) for word in tmp]\n",
        "    return tmp\n",
        "\n",
        "# Liste des mots vides de NLTK + signes de ponctuation\n",
        "fr_stopwords = stopwords.words('french')\n",
        "\n",
        "# Objet TfidfVectorizer\n",
        "text_vectorizer = TfidfVectorizer(tokenizer=split_into_tokens_lemmatized_nltk, \n",
        "                                lowercase=True, \n",
        "                                stop_words=fr_stopwords,\n",
        "                                min_df=0.01)\n",
        "\n",
        "# Pipeline spécifique à la colonne texte\n",
        "texte_pipeline = make_pipeline(\n",
        "    SingleColumnSelector(key=\"texte\"),\n",
        "    text_vectorizer\n",
        ")\n",
        "\n",
        "# Application de la pipeline à X_train ('apprentissage' du vocabulaire pour la colonne texte)\n",
        "texte_pipeline.fit(X_train)"
      ],
      "execution_count": 47,
      "outputs": [
        {
          "output_type": "stream",
          "text": [
            "/usr/local/lib/python3.7/dist-packages/sklearn/feature_extraction/text.py:507: UserWarning: The parameter 'token_pattern' will not be used since 'tokenizer' is not None'\n",
            "  warnings.warn(\"The parameter 'token_pattern' will not be used\"\n"
          ],
          "name": "stderr"
        },
        {
          "output_type": "execute_result",
          "data": {
            "text/plain": [
              "Pipeline(memory=None,\n",
              "         steps=[('singlecolumnselector', SingleColumnSelector(key='texte')),\n",
              "                ('tfidfvectorizer',\n",
              "                 TfidfVectorizer(analyzer='word', binary=False,\n",
              "                                 decode_error='strict',\n",
              "                                 dtype=<class 'numpy.float64'>,\n",
              "                                 encoding='utf-8', input='content',\n",
              "                                 lowercase=True, max_df=1.0, max_features=None,\n",
              "                                 min_df=0.01, ngram_range=(1, 1), norm='l2',\n",
              "                                 preprocessor=None, smooth_idf=True,\n",
              "                                 stop_words=['au', 'aux', 'avec', 'ce', 'ces',\n",
              "                                             'dans', 'de', 'des', 'du', 'elle',\n",
              "                                             'en', 'et', 'eux', 'il', 'ils',\n",
              "                                             'je', 'la', 'le', 'les', 'leur',\n",
              "                                             'lui', 'ma', 'mais', 'me', 'même',\n",
              "                                             'mes', 'moi', 'mon', 'ne', 'nos', ...],\n",
              "                                 strip_accents=None, sublinear_tf=False,\n",
              "                                 token_pattern='(?u)\\\\b\\\\w\\\\w+\\\\b',\n",
              "                                 tokenizer=<function split_into_tokens_lemmatized_nltk at 0x7f0af06ed560>,\n",
              "                                 use_idf=True, vocabulary=None))],\n",
              "         verbose=False)"
            ]
          },
          "metadata": {
            "tags": []
          },
          "execution_count": 47
        }
      ]
    },
    {
      "cell_type": "code",
      "metadata": {
        "colab": {
          "base_uri": "https://localhost:8080/",
          "height": 383
        },
        "id": "yMnUF6TbB3RR",
        "outputId": "571e50f1-907d-40c9-bf13-30a50df663b9"
      },
      "source": [
        "# Exemple d'application de la pipeline pour transformer les 5 premières instances de X_test\n",
        "res = texte_pipeline.transform(X_test.head())\n",
        "print(\"Input text\")\n",
        "print(X_test.texte.head())\n",
        "print()\n",
        "print(\"Output bags of words\")\n",
        "# Affichage des traits extraits par la pipeline\n",
        "bow = pd.DataFrame(res.toarray(), columns=text_vectorizer.get_feature_names())\n",
        "bow.set_index(X_test.head().index, inplace=True)\n",
        "bow.replace(0, np.nan).dropna(axis=1, how='all').fillna(0)"
      ],
      "execution_count": 48,
      "outputs": [
        {
          "output_type": "stream",
          "text": [
            "Input text\n",
            "6748     Cependant, j’appelle votre attention sur le fa...\n",
            "14991                                C’est le brouillard !\n",
            "23775    C’est une réalité – ce qui n’empêche en rien q...\n",
            "19675                                  C’est une réalité !\n",
            "9368              Où sont passés les 70 millions d’euros ?\n",
            "Name: texte, dtype: object\n",
            "\n",
            "Output bags of words\n"
          ],
          "name": "stdout"
        },
        {
          "output_type": "execute_result",
          "data": {
            "text/html": [
              "<div>\n",
              "<style scoped>\n",
              "    .dataframe tbody tr th:only-of-type {\n",
              "        vertical-align: middle;\n",
              "    }\n",
              "\n",
              "    .dataframe tbody tr th {\n",
              "        vertical-align: top;\n",
              "    }\n",
              "\n",
              "    .dataframe thead th {\n",
              "        text-align: right;\n",
              "    }\n",
              "</style>\n",
              "<table border=\"1\" class=\"dataframe\">\n",
              "  <thead>\n",
              "    <tr style=\"text-align: right;\">\n",
              "      <th></th>\n",
              "      <th></th>\n",
              "      <th>ainsi</th>\n",
              "      <th>amendement</th>\n",
              "      <th>appelle</th>\n",
              "      <th>application</th>\n",
              "      <th>après</th>\n",
              "      <th>attention</th>\n",
              "      <th>autant</th>\n",
              "      <th>autre</th>\n",
              "      <th>bon</th>\n",
              "      <th>cadre</th>\n",
              "      <th>car</th>\n",
              "      <th>cas</th>\n",
              "      <th>celui</th>\n",
              "      <th>cependant</th>\n",
              "      <th>certaines</th>\n",
              "      <th>certains</th>\n",
              "      <th>cette</th>\n",
              "      <th>comptes</th>\n",
              "      <th>contrôle</th>\n",
              "      <th>coût</th>\n",
              "      <th>devrait</th>\n",
              "      <th>difficulté</th>\n",
              "      <th>dont</th>\n",
              "      <th>déjà</th>\n",
              "      <th>euros</th>\n",
              "      <th>existe</th>\n",
              "      <th>fait</th>\n",
              "      <th>gouvernement</th>\n",
              "      <th>hier</th>\n",
              "      <th>loi</th>\n",
              "      <th>matin</th>\n",
              "      <th>millions</th>\n",
              "      <th>ministre</th>\n",
              "      <th>mois</th>\n",
              "      <th>moment</th>\n",
              "      <th>monsieur</th>\n",
              "      <th>obtenir</th>\n",
              "      <th>outre</th>\n",
              "      <th>où</th>\n",
              "      <th>parlementaires</th>\n",
              "      <th>peut</th>\n",
              "      <th>plus</th>\n",
              "      <th>points</th>\n",
              "      <th>premier</th>\n",
              "      <th>preuve</th>\n",
              "      <th>problème</th>\n",
              "      <th>présent</th>\n",
              "      <th>question</th>\n",
              "      <th>questions</th>\n",
              "      <th>quoi</th>\n",
              "      <th>rapport</th>\n",
              "      <th>respect</th>\n",
              "      <th>rien</th>\n",
              "      <th>réalité</th>\n",
              "      <th>réponses</th>\n",
              "      <th>sans</th>\n",
              "      <th>si</th>\n",
              "      <th>soutenir</th>\n",
              "      <th>sujet</th>\n",
              "      <th>sûr</th>\n",
              "      <th>très</th>\n",
              "      <th>être</th>\n",
              "    </tr>\n",
              "  </thead>\n",
              "  <tbody>\n",
              "    <tr>\n",
              "      <th>6748</th>\n",
              "      <td>0.038748</td>\n",
              "      <td>0.123964</td>\n",
              "      <td>0.000000</td>\n",
              "      <td>0.185151</td>\n",
              "      <td>0.00000</td>\n",
              "      <td>0.143823</td>\n",
              "      <td>0.182879</td>\n",
              "      <td>0.000000</td>\n",
              "      <td>0.137005</td>\n",
              "      <td>0.150172</td>\n",
              "      <td>0.000000</td>\n",
              "      <td>0.127493</td>\n",
              "      <td>0.132035</td>\n",
              "      <td>0.148102</td>\n",
              "      <td>0.178632</td>\n",
              "      <td>0.157543</td>\n",
              "      <td>0.000000</td>\n",
              "      <td>0.092053</td>\n",
              "      <td>0.372691</td>\n",
              "      <td>0.000000</td>\n",
              "      <td>0.000000</td>\n",
              "      <td>0.173428</td>\n",
              "      <td>0.184762</td>\n",
              "      <td>0.000000</td>\n",
              "      <td>0.130391</td>\n",
              "      <td>0.000000</td>\n",
              "      <td>0.167079</td>\n",
              "      <td>0.106272</td>\n",
              "      <td>0.116358</td>\n",
              "      <td>0.000000</td>\n",
              "      <td>0.000000</td>\n",
              "      <td>0.000000</td>\n",
              "      <td>0.000000</td>\n",
              "      <td>0.000000</td>\n",
              "      <td>0.292805</td>\n",
              "      <td>0.161519</td>\n",
              "      <td>0.00000</td>\n",
              "      <td>0.189304</td>\n",
              "      <td>0.16802</td>\n",
              "      <td>0.00000</td>\n",
              "      <td>0.000000</td>\n",
              "      <td>0.124299</td>\n",
              "      <td>0.090669</td>\n",
              "      <td>0.000000</td>\n",
              "      <td>0.000000</td>\n",
              "      <td>0.000000</td>\n",
              "      <td>0.149842</td>\n",
              "      <td>0.000000</td>\n",
              "      <td>0.000000</td>\n",
              "      <td>0.155327</td>\n",
              "      <td>0.164117</td>\n",
              "      <td>0.000000</td>\n",
              "      <td>0.00000</td>\n",
              "      <td>0.000000</td>\n",
              "      <td>0.000000</td>\n",
              "      <td>0.187165</td>\n",
              "      <td>0.117481</td>\n",
              "      <td>0.209777</td>\n",
              "      <td>0.185677</td>\n",
              "      <td>0.137233</td>\n",
              "      <td>0.17224</td>\n",
              "      <td>0.000000</td>\n",
              "      <td>0.104029</td>\n",
              "    </tr>\n",
              "    <tr>\n",
              "      <th>14991</th>\n",
              "      <td>1.000000</td>\n",
              "      <td>0.000000</td>\n",
              "      <td>0.000000</td>\n",
              "      <td>0.000000</td>\n",
              "      <td>0.00000</td>\n",
              "      <td>0.000000</td>\n",
              "      <td>0.000000</td>\n",
              "      <td>0.000000</td>\n",
              "      <td>0.000000</td>\n",
              "      <td>0.000000</td>\n",
              "      <td>0.000000</td>\n",
              "      <td>0.000000</td>\n",
              "      <td>0.000000</td>\n",
              "      <td>0.000000</td>\n",
              "      <td>0.000000</td>\n",
              "      <td>0.000000</td>\n",
              "      <td>0.000000</td>\n",
              "      <td>0.000000</td>\n",
              "      <td>0.000000</td>\n",
              "      <td>0.000000</td>\n",
              "      <td>0.000000</td>\n",
              "      <td>0.000000</td>\n",
              "      <td>0.000000</td>\n",
              "      <td>0.000000</td>\n",
              "      <td>0.000000</td>\n",
              "      <td>0.000000</td>\n",
              "      <td>0.000000</td>\n",
              "      <td>0.000000</td>\n",
              "      <td>0.000000</td>\n",
              "      <td>0.000000</td>\n",
              "      <td>0.000000</td>\n",
              "      <td>0.000000</td>\n",
              "      <td>0.000000</td>\n",
              "      <td>0.000000</td>\n",
              "      <td>0.000000</td>\n",
              "      <td>0.000000</td>\n",
              "      <td>0.00000</td>\n",
              "      <td>0.000000</td>\n",
              "      <td>0.00000</td>\n",
              "      <td>0.00000</td>\n",
              "      <td>0.000000</td>\n",
              "      <td>0.000000</td>\n",
              "      <td>0.000000</td>\n",
              "      <td>0.000000</td>\n",
              "      <td>0.000000</td>\n",
              "      <td>0.000000</td>\n",
              "      <td>0.000000</td>\n",
              "      <td>0.000000</td>\n",
              "      <td>0.000000</td>\n",
              "      <td>0.000000</td>\n",
              "      <td>0.000000</td>\n",
              "      <td>0.000000</td>\n",
              "      <td>0.00000</td>\n",
              "      <td>0.000000</td>\n",
              "      <td>0.000000</td>\n",
              "      <td>0.000000</td>\n",
              "      <td>0.000000</td>\n",
              "      <td>0.000000</td>\n",
              "      <td>0.000000</td>\n",
              "      <td>0.000000</td>\n",
              "      <td>0.00000</td>\n",
              "      <td>0.000000</td>\n",
              "      <td>0.000000</td>\n",
              "    </tr>\n",
              "    <tr>\n",
              "      <th>23775</th>\n",
              "      <td>0.142297</td>\n",
              "      <td>0.000000</td>\n",
              "      <td>0.128647</td>\n",
              "      <td>0.000000</td>\n",
              "      <td>0.21241</td>\n",
              "      <td>0.000000</td>\n",
              "      <td>0.000000</td>\n",
              "      <td>0.184178</td>\n",
              "      <td>0.000000</td>\n",
              "      <td>0.000000</td>\n",
              "      <td>0.185486</td>\n",
              "      <td>0.156066</td>\n",
              "      <td>0.000000</td>\n",
              "      <td>0.000000</td>\n",
              "      <td>0.000000</td>\n",
              "      <td>0.000000</td>\n",
              "      <td>0.173707</td>\n",
              "      <td>0.112684</td>\n",
              "      <td>0.000000</td>\n",
              "      <td>0.216602</td>\n",
              "      <td>0.213683</td>\n",
              "      <td>0.000000</td>\n",
              "      <td>0.000000</td>\n",
              "      <td>0.145209</td>\n",
              "      <td>0.000000</td>\n",
              "      <td>0.000000</td>\n",
              "      <td>0.000000</td>\n",
              "      <td>0.000000</td>\n",
              "      <td>0.142436</td>\n",
              "      <td>0.231551</td>\n",
              "      <td>0.127025</td>\n",
              "      <td>0.235298</td>\n",
              "      <td>0.000000</td>\n",
              "      <td>0.126858</td>\n",
              "      <td>0.000000</td>\n",
              "      <td>0.000000</td>\n",
              "      <td>0.13573</td>\n",
              "      <td>0.000000</td>\n",
              "      <td>0.00000</td>\n",
              "      <td>0.00000</td>\n",
              "      <td>0.213566</td>\n",
              "      <td>0.000000</td>\n",
              "      <td>0.110990</td>\n",
              "      <td>0.226328</td>\n",
              "      <td>0.170412</td>\n",
              "      <td>0.222252</td>\n",
              "      <td>0.000000</td>\n",
              "      <td>0.199699</td>\n",
              "      <td>0.146128</td>\n",
              "      <td>0.000000</td>\n",
              "      <td>0.000000</td>\n",
              "      <td>0.172358</td>\n",
              "      <td>0.22001</td>\n",
              "      <td>0.173253</td>\n",
              "      <td>0.190681</td>\n",
              "      <td>0.229112</td>\n",
              "      <td>0.000000</td>\n",
              "      <td>0.000000</td>\n",
              "      <td>0.000000</td>\n",
              "      <td>0.167989</td>\n",
              "      <td>0.00000</td>\n",
              "      <td>0.122161</td>\n",
              "      <td>0.000000</td>\n",
              "    </tr>\n",
              "    <tr>\n",
              "      <th>19675</th>\n",
              "      <td>0.241395</td>\n",
              "      <td>0.000000</td>\n",
              "      <td>0.000000</td>\n",
              "      <td>0.000000</td>\n",
              "      <td>0.00000</td>\n",
              "      <td>0.000000</td>\n",
              "      <td>0.000000</td>\n",
              "      <td>0.000000</td>\n",
              "      <td>0.000000</td>\n",
              "      <td>0.000000</td>\n",
              "      <td>0.000000</td>\n",
              "      <td>0.000000</td>\n",
              "      <td>0.000000</td>\n",
              "      <td>0.000000</td>\n",
              "      <td>0.000000</td>\n",
              "      <td>0.000000</td>\n",
              "      <td>0.000000</td>\n",
              "      <td>0.000000</td>\n",
              "      <td>0.000000</td>\n",
              "      <td>0.000000</td>\n",
              "      <td>0.000000</td>\n",
              "      <td>0.000000</td>\n",
              "      <td>0.000000</td>\n",
              "      <td>0.000000</td>\n",
              "      <td>0.000000</td>\n",
              "      <td>0.000000</td>\n",
              "      <td>0.000000</td>\n",
              "      <td>0.000000</td>\n",
              "      <td>0.000000</td>\n",
              "      <td>0.000000</td>\n",
              "      <td>0.000000</td>\n",
              "      <td>0.000000</td>\n",
              "      <td>0.000000</td>\n",
              "      <td>0.000000</td>\n",
              "      <td>0.000000</td>\n",
              "      <td>0.000000</td>\n",
              "      <td>0.00000</td>\n",
              "      <td>0.000000</td>\n",
              "      <td>0.00000</td>\n",
              "      <td>0.00000</td>\n",
              "      <td>0.000000</td>\n",
              "      <td>0.000000</td>\n",
              "      <td>0.000000</td>\n",
              "      <td>0.000000</td>\n",
              "      <td>0.000000</td>\n",
              "      <td>0.000000</td>\n",
              "      <td>0.000000</td>\n",
              "      <td>0.000000</td>\n",
              "      <td>0.000000</td>\n",
              "      <td>0.000000</td>\n",
              "      <td>0.000000</td>\n",
              "      <td>0.000000</td>\n",
              "      <td>0.00000</td>\n",
              "      <td>0.000000</td>\n",
              "      <td>0.970427</td>\n",
              "      <td>0.000000</td>\n",
              "      <td>0.000000</td>\n",
              "      <td>0.000000</td>\n",
              "      <td>0.000000</td>\n",
              "      <td>0.000000</td>\n",
              "      <td>0.00000</td>\n",
              "      <td>0.000000</td>\n",
              "      <td>0.000000</td>\n",
              "    </tr>\n",
              "    <tr>\n",
              "      <th>9368</th>\n",
              "      <td>0.161084</td>\n",
              "      <td>0.000000</td>\n",
              "      <td>0.000000</td>\n",
              "      <td>0.000000</td>\n",
              "      <td>0.00000</td>\n",
              "      <td>0.000000</td>\n",
              "      <td>0.000000</td>\n",
              "      <td>0.000000</td>\n",
              "      <td>0.000000</td>\n",
              "      <td>0.000000</td>\n",
              "      <td>0.000000</td>\n",
              "      <td>0.000000</td>\n",
              "      <td>0.000000</td>\n",
              "      <td>0.000000</td>\n",
              "      <td>0.000000</td>\n",
              "      <td>0.000000</td>\n",
              "      <td>0.000000</td>\n",
              "      <td>0.000000</td>\n",
              "      <td>0.000000</td>\n",
              "      <td>0.000000</td>\n",
              "      <td>0.000000</td>\n",
              "      <td>0.000000</td>\n",
              "      <td>0.000000</td>\n",
              "      <td>0.000000</td>\n",
              "      <td>0.000000</td>\n",
              "      <td>0.552556</td>\n",
              "      <td>0.000000</td>\n",
              "      <td>0.000000</td>\n",
              "      <td>0.000000</td>\n",
              "      <td>0.000000</td>\n",
              "      <td>0.000000</td>\n",
              "      <td>0.000000</td>\n",
              "      <td>0.610402</td>\n",
              "      <td>0.000000</td>\n",
              "      <td>0.000000</td>\n",
              "      <td>0.000000</td>\n",
              "      <td>0.00000</td>\n",
              "      <td>0.000000</td>\n",
              "      <td>0.00000</td>\n",
              "      <td>0.54419</td>\n",
              "      <td>0.000000</td>\n",
              "      <td>0.000000</td>\n",
              "      <td>0.000000</td>\n",
              "      <td>0.000000</td>\n",
              "      <td>0.000000</td>\n",
              "      <td>0.000000</td>\n",
              "      <td>0.000000</td>\n",
              "      <td>0.000000</td>\n",
              "      <td>0.000000</td>\n",
              "      <td>0.000000</td>\n",
              "      <td>0.000000</td>\n",
              "      <td>0.000000</td>\n",
              "      <td>0.00000</td>\n",
              "      <td>0.000000</td>\n",
              "      <td>0.000000</td>\n",
              "      <td>0.000000</td>\n",
              "      <td>0.000000</td>\n",
              "      <td>0.000000</td>\n",
              "      <td>0.000000</td>\n",
              "      <td>0.000000</td>\n",
              "      <td>0.00000</td>\n",
              "      <td>0.000000</td>\n",
              "      <td>0.000000</td>\n",
              "    </tr>\n",
              "  </tbody>\n",
              "</table>\n",
              "</div>"
            ],
            "text/plain": [
              "                    ainsi  amendement  ...      sûr      très      être\n",
              "6748   0.038748  0.123964    0.000000  ...  0.17224  0.000000  0.104029\n",
              "14991  1.000000  0.000000    0.000000  ...  0.00000  0.000000  0.000000\n",
              "23775  0.142297  0.000000    0.128647  ...  0.00000  0.122161  0.000000\n",
              "19675  0.241395  0.000000    0.000000  ...  0.00000  0.000000  0.000000\n",
              "9368   0.161084  0.000000    0.000000  ...  0.00000  0.000000  0.000000\n",
              "\n",
              "[5 rows x 63 columns]"
            ]
          },
          "metadata": {
            "tags": []
          },
          "execution_count": 48
        }
      ]
    },
    {
      "cell_type": "code",
      "metadata": {
        "colab": {
          "base_uri": "https://localhost:8080/"
        },
        "id": "lVgkllfaGh9W",
        "outputId": "2c0cea04-28bd-4809-ff5d-8f298cc5ce86"
      },
      "source": [
        "#Affichage du nombre de traits générés par chacune des chaines \n",
        "fnames_text = texte_pipeline.named_steps['tfidfvectorizer'].get_feature_names()\n",
        "print('Nombres de traits extraits à partir de la colonne texte :', len(fnames_text))"
      ],
      "execution_count": 49,
      "outputs": [
        {
          "output_type": "stream",
          "text": [
            "Nombres de traits extraits à partir de la colonne texte : 790\n"
          ],
          "name": "stdout"
        }
      ]
    },
    {
      "cell_type": "markdown",
      "metadata": {
        "id": "oAiN1J8yQ_Eo"
      },
      "source": [
        "## Tests de différents algorithmes d'apprentissage"
      ]
    },
    {
      "cell_type": "markdown",
      "metadata": {
        "id": "_o8oNqbfRKkI"
      },
      "source": [
        "### Multinomial"
      ]
    },
    {
      "cell_type": "code",
      "metadata": {
        "colab": {
          "base_uri": "https://localhost:8080/"
        },
        "id": "RJ2S1HjJHX46",
        "outputId": "bc1ac78b-4553-4370-cec8-2f7e2677e66b"
      },
      "source": [
        "# Prétraitement + apprentissage\n",
        "classifier_pipeline_mult = make_pipeline(\n",
        "    # Préparation des données pour l'apprentissage\n",
        "    texte_pipeline,\n",
        "    # Algorithme d'apprentissage\n",
        "    MultinomialNB()\n",
        ")\n",
        "# Apprentissage avec les données d'entraînement\n",
        "classifier_pipeline_mult.fit(X_train, y_train)"
      ],
      "execution_count": 50,
      "outputs": [
        {
          "output_type": "execute_result",
          "data": {
            "text/plain": [
              "Pipeline(memory=None,\n",
              "         steps=[('pipeline',\n",
              "                 Pipeline(memory=None,\n",
              "                          steps=[('singlecolumnselector',\n",
              "                                  SingleColumnSelector(key='texte')),\n",
              "                                 ('tfidfvectorizer',\n",
              "                                  TfidfVectorizer(analyzer='word', binary=False,\n",
              "                                                  decode_error='strict',\n",
              "                                                  dtype=<class 'numpy.float64'>,\n",
              "                                                  encoding='utf-8',\n",
              "                                                  input='content',\n",
              "                                                  lowercase=True, max_df=1.0,\n",
              "                                                  max_features=None,\n",
              "                                                  min_df=0.01,\n",
              "                                                  ngram_range=(1, 1), n...\n",
              "                                                              'leur', 'lui',\n",
              "                                                              'ma', 'mais',\n",
              "                                                              'me', 'même',\n",
              "                                                              'mes', 'moi',\n",
              "                                                              'mon', 'ne',\n",
              "                                                              'nos', ...],\n",
              "                                                  strip_accents=None,\n",
              "                                                  sublinear_tf=False,\n",
              "                                                  token_pattern='(?u)\\\\b\\\\w\\\\w+\\\\b',\n",
              "                                                  tokenizer=<function split_into_tokens_lemmatized_nltk at 0x7f0af06ed560>,\n",
              "                                                  use_idf=True,\n",
              "                                                  vocabulary=None))],\n",
              "                          verbose=False)),\n",
              "                ('multinomialnb',\n",
              "                 MultinomialNB(alpha=1.0, class_prior=None, fit_prior=True))],\n",
              "         verbose=False)"
            ]
          },
          "metadata": {
            "tags": []
          },
          "execution_count": 50
        }
      ]
    },
    {
      "cell_type": "code",
      "metadata": {
        "colab": {
          "base_uri": "https://localhost:8080/"
        },
        "id": "B0qxva0GHyDg",
        "outputId": "33a0d2e9-853e-4db2-c519-e47da3fd9f48"
      },
      "source": [
        "all_predictions_mult = classifier_pipeline_mult.predict(X_test)\n",
        "print(all_predictions_mult)"
      ],
      "execution_count": 51,
      "outputs": [
        {
          "output_type": "stream",
          "text": [
            "['droite' 'droite' 'droite' ... 'gauche' 'gauche' 'droite']\n"
          ],
          "name": "stdout"
        }
      ]
    },
    {
      "cell_type": "code",
      "metadata": {
        "colab": {
          "base_uri": "https://localhost:8080/"
        },
        "id": "54z45yNtPY-c",
        "outputId": "0a9ed891-583b-49d3-f785-d7d9868aff0b"
      },
      "source": [
        "# precision du classifier\n",
        "acc_mult = accuracy_score(y_test, all_predictions_mult)\n",
        "print('Précision du classifier avec l\\'algorithme Multinomial', accuracy_score(y_test, all_predictions_mult))"
      ],
      "execution_count": 52,
      "outputs": [
        {
          "output_type": "stream",
          "text": [
            "Précision du classifier avec l'algorithme Multinomial 0.6043360433604336\n"
          ],
          "name": "stdout"
        }
      ]
    },
    {
      "cell_type": "code",
      "metadata": {
        "colab": {
          "base_uri": "https://localhost:8080/",
          "height": 274
        },
        "id": "r1h4yVXraj1-",
        "outputId": "1f40432d-df87-4bb9-9f3a-eb2bc3c149bb"
      },
      "source": [
        "plt.matshow(confusion_matrix(y_test, all_predictions_mult), \n",
        "            cmap=plt.cm.binary, interpolation='nearest')\n",
        "plt.title('confusion matrix')\n",
        "plt.colorbar()\n",
        "plt.ylabel('expected label')\n",
        "plt.xlabel('predicted label')"
      ],
      "execution_count": 53,
      "outputs": [
        {
          "output_type": "execute_result",
          "data": {
            "text/plain": [
              "Text(0.5, 0, 'predicted label')"
            ]
          },
          "metadata": {
            "tags": []
          },
          "execution_count": 53
        },
        {
          "output_type": "display_data",
          "data": {
            "image/png": "[encoded data removed]",
            "text/plain": [
              "<Figure size 288x288 with 2 Axes>"
            ]
          },
          "metadata": {
            "tags": [],
            "needs_background": "light"
          }
        }
      ]
    },
    {
      "cell_type": "markdown",
      "metadata": {
        "id": "JguK3mxRRSXZ"
      },
      "source": [
        "### Randomclassifier"
      ]
    },
    {
      "cell_type": "code",
      "metadata": {
        "colab": {
          "base_uri": "https://localhost:8080/"
        },
        "id": "DOMfF1y9BQ0l",
        "outputId": "cb722575-8665-4c3e-de30-764f3b061f1e"
      },
      "source": [
        "classifier_pipeline_rand = make_pipeline(\n",
        "    # Préparation des données pour l'apprentissage\n",
        "    texte_pipeline,\n",
        "    # Algorithme d'apprentissage\n",
        "    RandomForestClassifier()\n",
        ")\n",
        "# Apprentissage avec les données d'entraînement\n",
        "classifier_pipeline_rand.fit(X_train, y_train)"
      ],
      "execution_count": 54,
      "outputs": [
        {
          "output_type": "execute_result",
          "data": {
            "text/plain": [
              "Pipeline(memory=None,\n",
              "         steps=[('pipeline',\n",
              "                 Pipeline(memory=None,\n",
              "                          steps=[('singlecolumnselector',\n",
              "                                  SingleColumnSelector(key='texte')),\n",
              "                                 ('tfidfvectorizer',\n",
              "                                  TfidfVectorizer(analyzer='word', binary=False,\n",
              "                                                  decode_error='strict',\n",
              "                                                  dtype=<class 'numpy.float64'>,\n",
              "                                                  encoding='utf-8',\n",
              "                                                  input='content',\n",
              "                                                  lowercase=True, max_df=1.0,\n",
              "                                                  max_features=None,\n",
              "                                                  min_df=0.01,\n",
              "                                                  ngram_range=(1, 1), n...\n",
              "                 RandomForestClassifier(bootstrap=True, ccp_alpha=0.0,\n",
              "                                        class_weight=None, criterion='gini',\n",
              "                                        max_depth=None, max_features='auto',\n",
              "                                        max_leaf_nodes=None, max_samples=None,\n",
              "                                        min_impurity_decrease=0.0,\n",
              "                                        min_impurity_split=None,\n",
              "                                        min_samples_leaf=1, min_samples_split=2,\n",
              "                                        min_weight_fraction_leaf=0.0,\n",
              "                                        n_estimators=100, n_jobs=None,\n",
              "                                        oob_score=False, random_state=None,\n",
              "                                        verbose=0, warm_start=False))],\n",
              "         verbose=False)"
            ]
          },
          "metadata": {
            "tags": []
          },
          "execution_count": 54
        }
      ]
    },
    {
      "cell_type": "code",
      "metadata": {
        "colab": {
          "base_uri": "https://localhost:8080/"
        },
        "id": "PSlf60T3BW4V",
        "outputId": "d77fcc89-e03f-4078-8554-7569593155a6"
      },
      "source": [
        "all_predictions_rand = classifier_pipeline_rand.predict(X_test)\n",
        "print(all_predictions_rand)"
      ],
      "execution_count": 55,
      "outputs": [
        {
          "output_type": "stream",
          "text": [
            "['droite' 'droite' 'droite' ... 'gauche' 'droite' 'droite']\n"
          ],
          "name": "stdout"
        }
      ]
    },
    {
      "cell_type": "code",
      "metadata": {
        "colab": {
          "base_uri": "https://localhost:8080/"
        },
        "id": "FyxxzV9mMnGq",
        "outputId": "d01192a5-1e05-47c2-b6a2-86cb25a53124"
      },
      "source": [
        "acc_rand = accuracy_score(y_test, all_predictions_rand)\n",
        "print('Précision pour l\\'algorithme d\\'apprentissage RandomClassifier', acc_rand)"
      ],
      "execution_count": 56,
      "outputs": [
        {
          "output_type": "stream",
          "text": [
            "Précision pour l'algorithme d'apprentissage RandomClassifier 0.6329849012775842\n"
          ],
          "name": "stdout"
        }
      ]
    },
    {
      "cell_type": "code",
      "metadata": {
        "colab": {
          "base_uri": "https://localhost:8080/",
          "height": 274
        },
        "id": "FsPhX4EvaVKL",
        "outputId": "b2241280-5a66-4cc1-c87a-b6df458c9d2a"
      },
      "source": [
        "plt.matshow(confusion_matrix(y_test, all_predictions_rand), \n",
        "            cmap=plt.cm.binary, interpolation='nearest')\n",
        "plt.title('confusion matrix')\n",
        "plt.colorbar()\n",
        "plt.ylabel('expected label')\n",
        "plt.xlabel('predicted label')"
      ],
      "execution_count": 57,
      "outputs": [
        {
          "output_type": "execute_result",
          "data": {
            "text/plain": [
              "Text(0.5, 0, 'predicted label')"
            ]
          },
          "metadata": {
            "tags": []
          },
          "execution_count": 57
        },
        {
          "output_type": "display_data",
          "data": {
            "image/png": "[encoded data removed]",
            "text/plain": [
              "<Figure size 288x288 with 2 Axes>"
            ]
          },
          "metadata": {
            "tags": [],
            "needs_background": "light"
          }
        }
      ]
    },
    {
      "cell_type": "markdown",
      "metadata": {
        "id": "pf02CvhdTGxW"
      },
      "source": [
        "## Validation croisée stratifiée"
      ]
    },
    {
      "cell_type": "code",
      "metadata": {
        "id": "kjMLfVeITb3K"
      },
      "source": [
        "kfold = model_selection.StratifiedKFold(n_splits=5, shuffle=True)"
      ],
      "execution_count": 58,
      "outputs": []
    },
    {
      "cell_type": "markdown",
      "metadata": {
        "id": "JLrb5P_9RyYc"
      },
      "source": [
        "#### Multinomial avec validation croisée stratifiée"
      ]
    },
    {
      "cell_type": "code",
      "metadata": {
        "colab": {
          "base_uri": "https://localhost:8080/"
        },
        "id": "IeA75m5EIIj7",
        "outputId": "c0dc2f38-0d7b-4251-ed5d-5423a589694c"
      },
      "source": [
        "# Avec Validation croisée stratifiée\n",
        "model_pipeline_mult = make_pipeline(texte_pipeline,MultinomialNB())\n",
        "y_pred_mult = model_selection.cross_val_predict(model_pipeline_mult, X, y, \n",
        "                                               cv=kfold)\n",
        "\n",
        "print(y_pred_mult)"
      ],
      "execution_count": 59,
      "outputs": [
        {
          "output_type": "stream",
          "text": [
            "['gauche' 'droite' 'gauche' ... 'gauche' 'droite' 'droite']\n"
          ],
          "name": "stdout"
        }
      ]
    },
    {
      "cell_type": "code",
      "metadata": {
        "colab": {
          "base_uri": "https://localhost:8080/"
        },
        "id": "HqTZ4rhVSFhF",
        "outputId": "4155e70d-1cd1-4a7b-9540-1e4784478ce8"
      },
      "source": [
        "acc_cross_mult = accuracy_score(y, y_pred_mult)\n",
        "print('Précision avec validation croisée stratifiée : ', acc_cross_mult)"
      ],
      "execution_count": 60,
      "outputs": [
        {
          "output_type": "stream",
          "text": [
            "Précision avec validation croisée stratifiée :  0.6059620596205962\n"
          ],
          "name": "stdout"
        }
      ]
    },
    {
      "cell_type": "code",
      "metadata": {
        "colab": {
          "base_uri": "https://localhost:8080/"
        },
        "id": "1qm0QCF6Wk_C",
        "outputId": "11c321ac-46fe-416f-b4f5-902480a0b956"
      },
      "source": [
        "print(classification_report(y, y_pred_mult))"
      ],
      "execution_count": 61,
      "outputs": [
        {
          "output_type": "stream",
          "text": [
            "              precision    recall  f1-score   support\n",
            "\n",
            "      droite       0.60      0.68      0.63     12997\n",
            "      gauche       0.62      0.53      0.57     12833\n",
            "\n",
            "    accuracy                           0.61     25830\n",
            "   macro avg       0.61      0.61      0.60     25830\n",
            "weighted avg       0.61      0.61      0.60     25830\n",
            "\n"
          ],
          "name": "stdout"
        }
      ]
    },
    {
      "cell_type": "code",
      "metadata": {
        "colab": {
          "base_uri": "https://localhost:8080/",
          "height": 274
        },
        "id": "y3pHJ-l4asaf",
        "outputId": "ea519e4a-1e74-49e5-a3fa-7fdb6bb72d5c"
      },
      "source": [
        "plt.matshow(confusion_matrix(y, y_pred_mult), \n",
        "            cmap=plt.cm.binary, interpolation='nearest')\n",
        "plt.title('confusion matrix')\n",
        "plt.colorbar()\n",
        "plt.ylabel('expected label')\n",
        "plt.xlabel('predicted label')"
      ],
      "execution_count": 62,
      "outputs": [
        {
          "output_type": "execute_result",
          "data": {
            "text/plain": [
              "Text(0.5, 0, 'predicted label')"
            ]
          },
          "metadata": {
            "tags": []
          },
          "execution_count": 62
        },
        {
          "output_type": "display_data",
          "data": {
            "image/png": "[encoded data removed]",
            "text/plain": [
              "<Figure size 288x288 with 2 Axes>"
            ]
          },
          "metadata": {
            "tags": [],
            "needs_background": "light"
          }
        }
      ]
    },
    {
      "cell_type": "markdown",
      "metadata": {
        "id": "F-w24YbYSjs_"
      },
      "source": [
        "#### RandomClassifier avec validation croisée stratifiée"
      ]
    },
    {
      "cell_type": "code",
      "metadata": {
        "colab": {
          "base_uri": "https://localhost:8080/"
        },
        "id": "bD0z0zo4MZSw",
        "outputId": "0821c335-80ec-4b88-d7ca-bfcca65ad6ad"
      },
      "source": [
        "model_pipeline_rand = make_pipeline(texte_pipeline,RandomForestClassifier())\n",
        "y_pred_rand = model_selection.cross_val_predict(model_pipeline_rand, X, y, \n",
        "                                               cv=kfold)\n",
        "print(y_pred_rand)\n"
      ],
      "execution_count": 63,
      "outputs": [
        {
          "output_type": "stream",
          "text": [
            "['droite' 'droite' 'droite' ... 'gauche' 'gauche' 'droite']\n"
          ],
          "name": "stdout"
        }
      ]
    },
    {
      "cell_type": "code",
      "metadata": {
        "colab": {
          "base_uri": "https://localhost:8080/"
        },
        "id": "SMHvTvDtCtkK",
        "outputId": "f67477ea-9000-46d9-cfb7-43bcdae90d45"
      },
      "source": [
        "# precision du classifier\n",
        "acc_cross_rand = accuracy_score(y, y_pred_rand)\n",
        "print('Précision avec validation croisée stratifiée : ', acc_cross_rand)"
      ],
      "execution_count": 64,
      "outputs": [
        {
          "output_type": "stream",
          "text": [
            "Précision avec validation croisée stratifiée :  0.6356174990321332\n"
          ],
          "name": "stdout"
        }
      ]
    },
    {
      "cell_type": "code",
      "metadata": {
        "colab": {
          "base_uri": "https://localhost:8080/"
        },
        "id": "O04fVFLNW53s",
        "outputId": "80c30a0d-6c90-464d-9e77-0d658b54281f"
      },
      "source": [
        "print(classification_report(y, y_pred_rand))"
      ],
      "execution_count": 65,
      "outputs": [
        {
          "output_type": "stream",
          "text": [
            "              precision    recall  f1-score   support\n",
            "\n",
            "      droite       0.63      0.68      0.65     12997\n",
            "      gauche       0.64      0.59      0.62     12833\n",
            "\n",
            "    accuracy                           0.64     25830\n",
            "   macro avg       0.64      0.64      0.63     25830\n",
            "weighted avg       0.64      0.64      0.63     25830\n",
            "\n"
          ],
          "name": "stdout"
        }
      ]
    },
    {
      "cell_type": "code",
      "metadata": {
        "colab": {
          "base_uri": "https://localhost:8080/",
          "height": 274
        },
        "id": "u028B2VlbEnC",
        "outputId": "c07c085f-45a8-474d-f876-22adfc80f8f8"
      },
      "source": [
        "plt.matshow(confusion_matrix(y, y_pred_rand), \n",
        "            cmap=plt.cm.binary, interpolation='nearest')\n",
        "plt.title('confusion matrix')\n",
        "plt.colorbar()\n",
        "plt.ylabel('expected label')\n",
        "plt.xlabel('predicted label')"
      ],
      "execution_count": 66,
      "outputs": [
        {
          "output_type": "execute_result",
          "data": {
            "text/plain": [
              "Text(0.5, 0, 'predicted label')"
            ]
          },
          "metadata": {
            "tags": []
          },
          "execution_count": 66
        },
        {
          "output_type": "display_data",
          "data": {
            "image/png": "[encoded data removed]",
            "text/plain": [
              "<Figure size 288x288 with 2 Axes>"
            ]
          },
          "metadata": {
            "tags": [],
            "needs_background": "light"
          }
        }
      ]
    },
    {
      "cell_type": "markdown",
      "metadata": {
        "id": "ucUn6ZTgXKLd"
      },
      "source": [
        "## Comparaison des modèles "
      ]
    },
    {
      "cell_type": "markdown",
      "metadata": {
        "id": "nWpPXC8-XPXO"
      },
      "source": [
        "### Sans validation croisée"
      ]
    },
    {
      "cell_type": "code",
      "metadata": {
        "id": "fHHf3HeAZPbJ"
      },
      "source": [
        "scores= []\n",
        "scores.append(acc_mult)\n",
        "scores.append(acc_rand)\n",
        "\n",
        "names = ['Multinomial', 'RandomClassifier']\n",
        "scoring = 'accuracy'"
      ],
      "execution_count": 67,
      "outputs": []
    },
    {
      "cell_type": "code",
      "metadata": {
        "colab": {
          "base_uri": "https://localhost:8080/",
          "height": 265
        },
        "id": "vzp1O7a6Z-5a",
        "outputId": "6075ea83-f304-417c-f4e0-109a00d9c1a5"
      },
      "source": [
        "indices = np.arange(len(scores))\n",
        "fig = plt.figure()\n",
        "plt.barh(indices, scores, .2, label=\"score\", color='b')\n",
        "plt.yticks(())\n",
        "for i, c in zip(indices, names):\n",
        "    plt.text(-.3, i, c)\n",
        "plt.show()"
      ],
      "execution_count": 68,
      "outputs": [
        {
          "output_type": "display_data",
          "data": {
            "image/png": "[encoded data removed]",
            "text/plain": [
              "<Figure size 432x288 with 1 Axes>"
            ]
          },
          "metadata": {
            "tags": [],
            "needs_background": "light"
          }
        }
      ]
    },
    {
      "cell_type": "markdown",
      "metadata": {
        "id": "HPQ1AbaIXNZx"
      },
      "source": [
        "### Avec validation croisée"
      ]
    },
    {
      "cell_type": "code",
      "metadata": {
        "id": "ElkHxhPvXRQ7"
      },
      "source": [
        "scores_cross = []\n",
        "scores_cross.append(acc_cross_mult )\n",
        "scores_cross.append(acc_cross_rand)\n",
        "\n",
        "names = ['Multinomial', 'RandomClassifier']\n",
        "scoring = 'accuracy'"
      ],
      "execution_count": 69,
      "outputs": []
    },
    {
      "cell_type": "code",
      "metadata": {
        "colab": {
          "base_uri": "https://localhost:8080/",
          "height": 265
        },
        "id": "lfBui0OWY4uk",
        "outputId": "c0d632d4-c0c1-4ba9-8b3d-5825cbd78228"
      },
      "source": [
        "indices = np.arange(len(scores_cross))\n",
        "fig = plt.figure()\n",
        "plt.barh(indices, scores, .2, label=\"score\", color='b')\n",
        "plt.yticks(())\n",
        "for i, c in zip(indices, names):\n",
        "    plt.text(-.3, i, c)\n",
        "plt.show()"
      ],
      "execution_count": 70,
      "outputs": [
        {
          "output_type": "display_data",
          "data": {
            "image/png": "[encoded data removed]",
            "text/plain": [
              "<Figure size 432x288 with 1 Axes>"
            ]
          },
          "metadata": {
            "tags": [],
            "needs_background": "light"
          }
        }
      ]
    }
  ]
}